{
 "cells": [
  {
   "cell_type": "code",
   "execution_count": 2,
   "id": "fcacdc71-e212-4020-bdbd-fc58ba01b6a5",
   "metadata": {},
   "outputs": [
    {
     "name": "stdin",
     "output_type": "stream",
     "text": [
      "Введи год: 2019\n"
     ]
    },
    {
     "name": "stdout",
     "output_type": "stream",
     "text": [
      "Обычный год\n"
     ]
    }
   ],
   "source": [
    "def is_valid(year):\n",
    "    try:\n",
    "        year_int = int(year)\n",
    "        return True\n",
    "    except:\n",
    "        return False\n",
    "\n",
    "year = input(\"Введи год:\")\n",
    "while not is_valid(year):\n",
    "    ticket = input(\"Ошибка, неверный год. Введи год:\")\n",
    "year = int(year)\n",
    "\n",
    "if year % 400 == 0:\n",
    "    print(\"Високосный год\")\n",
    "elif year % 100 == 0:\n",
    "    print(\"Обычный год\")\n",
    "elif year % 4 == 0:\n",
    "    print(\"Високосный год\")\n",
    "else:\n",
    "    print(\"Обычный год\")"
   ]
  },
  {
   "cell_type": "code",
   "execution_count": null,
   "id": "6e8a449d-74a5-45b9-8651-af58ec8ee77d",
   "metadata": {},
   "outputs": [],
   "source": []
  }
 ],
 "metadata": {
  "kernelspec": {
   "display_name": "Python 3 (ipykernel)",
   "language": "python",
   "name": "python3"
  },
  "language_info": {
   "codemirror_mode": {
    "name": "ipython",
    "version": 3
   },
   "file_extension": ".py",
   "mimetype": "text/x-python",
   "name": "python",
   "nbconvert_exporter": "python",
   "pygments_lexer": "ipython3",
   "version": "3.12.6"
  }
 },
 "nbformat": 4,
 "nbformat_minor": 5
}
