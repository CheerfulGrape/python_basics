{
 "cells": [
  {
   "cell_type": "code",
   "execution_count": 6,
   "id": "30ea6e55-79ff-4498-aac1-d815f51a2e81",
   "metadata": {},
   "outputs": [
    {
     "name": "stdin",
     "output_type": "stream",
     "text": [
      "Введи номер билета: 123321\n"
     ]
    },
    {
     "name": "stdout",
     "output_type": "stream",
     "text": [
      "Счастливый билет\n"
     ]
    }
   ],
   "source": [
    "def is_valid(ticket):\n",
    "    try:\n",
    "        ticket_int = int(ticket)\n",
    "        if not 100000 <= ticket_int <= 999999:\n",
    "            return False\n",
    "        return True\n",
    "    except:\n",
    "        return False\n",
    "\n",
    "ticket = input(\"Введи номер билета:\")\n",
    "while not is_valid(ticket):\n",
    "    ticket = input(\"Ошибка, неверный номер билета. Введи номер билета:\")\n",
    "ticket = int(ticket)\n",
    "\n",
    "first_sum = ticket // 100000 + ((ticket % 100000) // 10000) + ((ticket % 10000) // 1000)\n",
    "second_sum = ((ticket % 1000) // 100) + ((ticket % 100) // 10) + (ticket % 10)\n",
    "\n",
    "if first_sum == second_sum:\n",
    "    print(\"Счастливый билет\")\n",
    "else:\n",
    "    print(\"Несчастливый билет\")"
   ]
  },
  {
   "cell_type": "code",
   "execution_count": null,
   "id": "5c7e8e5d-c41f-4e41-8091-c943df6a0b1d",
   "metadata": {},
   "outputs": [],
   "source": []
  }
 ],
 "metadata": {
  "kernelspec": {
   "display_name": "Python 3 (ipykernel)",
   "language": "python",
   "name": "python3"
  },
  "language_info": {
   "codemirror_mode": {
    "name": "ipython",
    "version": 3
   },
   "file_extension": ".py",
   "mimetype": "text/x-python",
   "name": "python",
   "nbconvert_exporter": "python",
   "pygments_lexer": "ipython3",
   "version": "3.12.6"
  }
 },
 "nbformat": 4,
 "nbformat_minor": 5
}
